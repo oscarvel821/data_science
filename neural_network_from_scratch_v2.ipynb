{
  "nbformat": 4,
  "nbformat_minor": 0,
  "metadata": {
    "colab": {
      "provenance": [],
      "collapsed_sections": [
        "sX26v0_aCeLU",
        "EB13VwqrCTOU",
        "Bq7GdO-_8_k0",
        "gNYlcfer5-g1",
        "5Xn9kEe16R2Q",
        "C5ICSs-D7GFR",
        "Xq8iPgjL77Te"
      ],
      "authorship_tag": "ABX9TyMIFqu1kC/Vz7wC8tBOguwC",
      "include_colab_link": true
    },
    "kernelspec": {
      "name": "python3",
      "display_name": "Python 3"
    },
    "language_info": {
      "name": "python"
    }
  },
  "cells": [
    {
      "cell_type": "markdown",
      "metadata": {
        "id": "view-in-github",
        "colab_type": "text"
      },
      "source": [
        "<a href=\"https://colab.research.google.com/github/oscarvel821/data_science/blob/main/neural_network_from_scratch_v2.ipynb\" target=\"_parent\"><img src=\"https://colab.research.google.com/assets/colab-badge.svg\" alt=\"Open In Colab\"/></a>"
      ]
    },
    {
      "cell_type": "code",
      "execution_count": 1,
      "metadata": {
        "id": "tXx_ihqIsA9W"
      },
      "outputs": [],
      "source": [
        "import numpy as np\n",
        "import pandas as pd\n",
        "import matplotlib.pyplot as plt\n",
        "from sklearn.model_selection import train_test_split"
      ]
    },
    {
      "cell_type": "code",
      "source": [
        "! pip install -q kaggle"
      ],
      "metadata": {
        "id": "EfnjpvxUsGQj"
      },
      "execution_count": 2,
      "outputs": []
    },
    {
      "cell_type": "code",
      "source": [
        "from google.colab import files\n",
        "\n",
        "files.upload()"
      ],
      "metadata": {
        "colab": {
          "base_uri": "https://localhost:8080/",
          "height": 90
        },
        "id": "JM4VMTq0sHxJ",
        "outputId": "7c38e768-99f1-42a4-e687-35d6fceda3ab"
      },
      "execution_count": 3,
      "outputs": [
        {
          "output_type": "display_data",
          "data": {
            "text/plain": [
              "<IPython.core.display.HTML object>"
            ],
            "text/html": [
              "\n",
              "     <input type=\"file\" id=\"files-7c705dc2-eb5c-4a2e-9c7c-f8266a8405d0\" name=\"files[]\" multiple disabled\n",
              "        style=\"border:none\" />\n",
              "     <output id=\"result-7c705dc2-eb5c-4a2e-9c7c-f8266a8405d0\">\n",
              "      Upload widget is only available when the cell has been executed in the\n",
              "      current browser session. Please rerun this cell to enable.\n",
              "      </output>\n",
              "      <script>// Copyright 2017 Google LLC\n",
              "//\n",
              "// Licensed under the Apache License, Version 2.0 (the \"License\");\n",
              "// you may not use this file except in compliance with the License.\n",
              "// You may obtain a copy of the License at\n",
              "//\n",
              "//      http://www.apache.org/licenses/LICENSE-2.0\n",
              "//\n",
              "// Unless required by applicable law or agreed to in writing, software\n",
              "// distributed under the License is distributed on an \"AS IS\" BASIS,\n",
              "// WITHOUT WARRANTIES OR CONDITIONS OF ANY KIND, either express or implied.\n",
              "// See the License for the specific language governing permissions and\n",
              "// limitations under the License.\n",
              "\n",
              "/**\n",
              " * @fileoverview Helpers for google.colab Python module.\n",
              " */\n",
              "(function(scope) {\n",
              "function span(text, styleAttributes = {}) {\n",
              "  const element = document.createElement('span');\n",
              "  element.textContent = text;\n",
              "  for (const key of Object.keys(styleAttributes)) {\n",
              "    element.style[key] = styleAttributes[key];\n",
              "  }\n",
              "  return element;\n",
              "}\n",
              "\n",
              "// Max number of bytes which will be uploaded at a time.\n",
              "const MAX_PAYLOAD_SIZE = 100 * 1024;\n",
              "\n",
              "function _uploadFiles(inputId, outputId) {\n",
              "  const steps = uploadFilesStep(inputId, outputId);\n",
              "  const outputElement = document.getElementById(outputId);\n",
              "  // Cache steps on the outputElement to make it available for the next call\n",
              "  // to uploadFilesContinue from Python.\n",
              "  outputElement.steps = steps;\n",
              "\n",
              "  return _uploadFilesContinue(outputId);\n",
              "}\n",
              "\n",
              "// This is roughly an async generator (not supported in the browser yet),\n",
              "// where there are multiple asynchronous steps and the Python side is going\n",
              "// to poll for completion of each step.\n",
              "// This uses a Promise to block the python side on completion of each step,\n",
              "// then passes the result of the previous step as the input to the next step.\n",
              "function _uploadFilesContinue(outputId) {\n",
              "  const outputElement = document.getElementById(outputId);\n",
              "  const steps = outputElement.steps;\n",
              "\n",
              "  const next = steps.next(outputElement.lastPromiseValue);\n",
              "  return Promise.resolve(next.value.promise).then((value) => {\n",
              "    // Cache the last promise value to make it available to the next\n",
              "    // step of the generator.\n",
              "    outputElement.lastPromiseValue = value;\n",
              "    return next.value.response;\n",
              "  });\n",
              "}\n",
              "\n",
              "/**\n",
              " * Generator function which is called between each async step of the upload\n",
              " * process.\n",
              " * @param {string} inputId Element ID of the input file picker element.\n",
              " * @param {string} outputId Element ID of the output display.\n",
              " * @return {!Iterable<!Object>} Iterable of next steps.\n",
              " */\n",
              "function* uploadFilesStep(inputId, outputId) {\n",
              "  const inputElement = document.getElementById(inputId);\n",
              "  inputElement.disabled = false;\n",
              "\n",
              "  const outputElement = document.getElementById(outputId);\n",
              "  outputElement.innerHTML = '';\n",
              "\n",
              "  const pickedPromise = new Promise((resolve) => {\n",
              "    inputElement.addEventListener('change', (e) => {\n",
              "      resolve(e.target.files);\n",
              "    });\n",
              "  });\n",
              "\n",
              "  const cancel = document.createElement('button');\n",
              "  inputElement.parentElement.appendChild(cancel);\n",
              "  cancel.textContent = 'Cancel upload';\n",
              "  const cancelPromise = new Promise((resolve) => {\n",
              "    cancel.onclick = () => {\n",
              "      resolve(null);\n",
              "    };\n",
              "  });\n",
              "\n",
              "  // Wait for the user to pick the files.\n",
              "  const files = yield {\n",
              "    promise: Promise.race([pickedPromise, cancelPromise]),\n",
              "    response: {\n",
              "      action: 'starting',\n",
              "    }\n",
              "  };\n",
              "\n",
              "  cancel.remove();\n",
              "\n",
              "  // Disable the input element since further picks are not allowed.\n",
              "  inputElement.disabled = true;\n",
              "\n",
              "  if (!files) {\n",
              "    return {\n",
              "      response: {\n",
              "        action: 'complete',\n",
              "      }\n",
              "    };\n",
              "  }\n",
              "\n",
              "  for (const file of files) {\n",
              "    const li = document.createElement('li');\n",
              "    li.append(span(file.name, {fontWeight: 'bold'}));\n",
              "    li.append(span(\n",
              "        `(${file.type || 'n/a'}) - ${file.size} bytes, ` +\n",
              "        `last modified: ${\n",
              "            file.lastModifiedDate ? file.lastModifiedDate.toLocaleDateString() :\n",
              "                                    'n/a'} - `));\n",
              "    const percent = span('0% done');\n",
              "    li.appendChild(percent);\n",
              "\n",
              "    outputElement.appendChild(li);\n",
              "\n",
              "    const fileDataPromise = new Promise((resolve) => {\n",
              "      const reader = new FileReader();\n",
              "      reader.onload = (e) => {\n",
              "        resolve(e.target.result);\n",
              "      };\n",
              "      reader.readAsArrayBuffer(file);\n",
              "    });\n",
              "    // Wait for the data to be ready.\n",
              "    let fileData = yield {\n",
              "      promise: fileDataPromise,\n",
              "      response: {\n",
              "        action: 'continue',\n",
              "      }\n",
              "    };\n",
              "\n",
              "    // Use a chunked sending to avoid message size limits. See b/62115660.\n",
              "    let position = 0;\n",
              "    do {\n",
              "      const length = Math.min(fileData.byteLength - position, MAX_PAYLOAD_SIZE);\n",
              "      const chunk = new Uint8Array(fileData, position, length);\n",
              "      position += length;\n",
              "\n",
              "      const base64 = btoa(String.fromCharCode.apply(null, chunk));\n",
              "      yield {\n",
              "        response: {\n",
              "          action: 'append',\n",
              "          file: file.name,\n",
              "          data: base64,\n",
              "        },\n",
              "      };\n",
              "\n",
              "      let percentDone = fileData.byteLength === 0 ?\n",
              "          100 :\n",
              "          Math.round((position / fileData.byteLength) * 100);\n",
              "      percent.textContent = `${percentDone}% done`;\n",
              "\n",
              "    } while (position < fileData.byteLength);\n",
              "  }\n",
              "\n",
              "  // All done.\n",
              "  yield {\n",
              "    response: {\n",
              "      action: 'complete',\n",
              "    }\n",
              "  };\n",
              "}\n",
              "\n",
              "scope.google = scope.google || {};\n",
              "scope.google.colab = scope.google.colab || {};\n",
              "scope.google.colab._files = {\n",
              "  _uploadFiles,\n",
              "  _uploadFilesContinue,\n",
              "};\n",
              "})(self);\n",
              "</script> "
            ]
          },
          "metadata": {}
        },
        {
          "output_type": "stream",
          "name": "stdout",
          "text": [
            "Saving kaggle.json to kaggle.json\n"
          ]
        },
        {
          "output_type": "execute_result",
          "data": {
            "text/plain": [
              "{'kaggle.json': b'{\"username\":\"oscarvelazquez\",\"key\":\"2210797b48a0848598db88f7c606c574\"}'}"
            ]
          },
          "metadata": {},
          "execution_count": 3
        }
      ]
    },
    {
      "cell_type": "code",
      "source": [
        "! mkdir ~/.kaggle\n",
        "\n",
        "! cp kaggle.json ~/.kaggle/"
      ],
      "metadata": {
        "id": "b6sn3sCcsJKT"
      },
      "execution_count": 4,
      "outputs": []
    },
    {
      "cell_type": "code",
      "source": [
        "! chmod 600 ~/.kaggle/kaggle.json"
      ],
      "metadata": {
        "id": "RG63f8BxsPHj"
      },
      "execution_count": 5,
      "outputs": []
    },
    {
      "cell_type": "code",
      "source": [
        "! kaggle datasets list"
      ],
      "metadata": {
        "colab": {
          "base_uri": "https://localhost:8080/"
        },
        "id": "D92LFjcDsQng",
        "outputId": "b9792cf9-b52f-4389-e7eb-cbe1f4b0328d"
      },
      "execution_count": 6,
      "outputs": [
        {
          "output_type": "stream",
          "name": "stdout",
          "text": [
            "ref                                                                   title                                                size  lastUpdated          downloadCount  voteCount  usabilityRating  \n",
            "--------------------------------------------------------------------  --------------------------------------------------  -----  -------------------  -------------  ---------  ---------------  \n",
            "arnabchaki/data-science-salaries-2023                                 Data Science Salaries 2023 💸                         25KB  2023-04-13 09:55:16          32851        891  1.0              \n",
            "tawfikelmetwally/automobile-dataset                                   Car information dataset                               6KB  2023-05-28 18:26:48           4098        118  0.9411765        \n",
            "fatihb/coffee-quality-data-cqi                                        Coffee Quality Data (CQI May-2023)                   22KB  2023-05-12 13:06:39           6212        129  1.0              \n",
            "mohithsairamreddy/salary-data                                         Salary_Data                                          17KB  2023-05-18 14:05:19           6369        125  0.88235295       \n",
            "mauryansshivam/netflix-ott-revenue-and-subscribers-csv-file           Netflix OTT Revenue and Subscribers (CSV File)        2KB  2023-05-13 17:40:23           3056         67  1.0              \n",
            "omarsobhy14/mcdonalds-revenue                                         🍟💰From Flipping Burgers to Billions: McDonald's      565B  2023-06-01 23:22:49            741         33  1.0              \n",
            "drahulsingh/list-of-best-selling-ps4-games                            List of best-selling PlayStation 4 video games        2KB  2023-06-11 17:36:59            955         31  1.0              \n",
            "zsinghrahulk/rice-pest-and-diseases                                   Rice - Pest and Diseases                            312KB  2023-06-01 08:57:29            802         32  1.0              \n",
            "iammustafatz/diabetes-prediction-dataset                              Diabetes prediction dataset                         734KB  2023-04-08 06:11:45          17172        249  1.0              \n",
            "vstacknocopyright/fruit-and-vegetable-prices                          Fruit and Vegetable Prices                            1KB  2023-06-02 06:17:43           1304         36  0.7647059        \n",
            "goyaladi/iit-admissions-dataset                                       IIT Admissions Dataset - 200,000 Students             5MB  2023-06-16 09:31:48            863         22  1.0              \n",
            "bilalwaseer/microsoft-stocks-from-1986-to-2023                        Microsoft Stocks from 1986 to 2023                  120KB  2023-05-16 10:07:28           1179         34  1.0              \n",
            "bhanupratapbiswas/fashion-products                                    Fashion Products                                     20KB  2023-06-12 03:56:26            887         34  0.7058824        \n",
            "darshanprabhu09/stock-prices-for                                      Stock prices of Amazon , Microsoft , Google, Apple   85KB  2023-05-16 15:17:16           2303         50  1.0              \n",
            "rajkumarpandey02/2023-world-population-by-country                      World Population by Country                         38KB  2023-06-01 06:10:41           2341         43  1.0              \n",
            "danishjmeo/karachi-housing-prices-2023                                Karachi_Housing_Prices_2023                           1MB  2023-06-01 07:08:13            595         30  0.9411765        \n",
            "adityaramachandran27/world-air-quality-index-by-city-and-coordinates  World Air Quality Index by City and Coordinates     372KB  2023-05-07 07:29:26           2368         49  1.0              \n",
            "dansbecker/melbourne-housing-snapshot                                 Melbourne Housing Snapshot                          451KB  2018-06-05 12:52:24         118258       1286  0.7058824        \n",
            "pushpakhinglaspure/oscar-dataset                                      Oscar Academy Award-winning films 1927-2022         161KB  2023-05-21 18:14:44            992         34  1.0              \n",
            "aryansingh0909/weekly-patent-application-granted                      Patent Application Granted Dataset                    6MB  2023-06-01 19:04:40            450         25  1.0              \n"
          ]
        }
      ]
    },
    {
      "cell_type": "code",
      "source": [
        "! kaggle competitions download -c digit-recognizer"
      ],
      "metadata": {
        "colab": {
          "base_uri": "https://localhost:8080/"
        },
        "id": "O3td_3jTsR8k",
        "outputId": "fdc16ad9-9793-4fa4-cad1-9dcf83643200"
      },
      "execution_count": 7,
      "outputs": [
        {
          "output_type": "stream",
          "name": "stdout",
          "text": [
            "Downloading digit-recognizer.zip to /content\n",
            " 52% 8.00M/15.3M [00:00<00:00, 78.2MB/s]\n",
            "100% 15.3M/15.3M [00:00<00:00, 65.2MB/s]\n"
          ]
        }
      ]
    },
    {
      "cell_type": "code",
      "source": [
        "! unzip /content/digit-recognizer.zip"
      ],
      "metadata": {
        "colab": {
          "base_uri": "https://localhost:8080/"
        },
        "id": "qSiZx7JUsT82",
        "outputId": "3da1feca-9d0b-40f2-9a87-5cfa9d88fbce"
      },
      "execution_count": 8,
      "outputs": [
        {
          "output_type": "stream",
          "name": "stdout",
          "text": [
            "Archive:  /content/digit-recognizer.zip\n",
            "  inflating: sample_submission.csv   \n",
            "  inflating: test.csv                \n",
            "  inflating: train.csv               \n"
          ]
        }
      ]
    },
    {
      "cell_type": "markdown",
      "source": [
        "# Digit dataset"
      ],
      "metadata": {
        "id": "sX26v0_aCeLU"
      }
    },
    {
      "cell_type": "code",
      "source": [
        "raw_df = pd.read_csv('/content/train.csv')"
      ],
      "metadata": {
        "id": "e_Ky26yNsVyw"
      },
      "execution_count": 9,
      "outputs": []
    },
    {
      "cell_type": "code",
      "source": [
        "raw_df"
      ],
      "metadata": {
        "colab": {
          "base_uri": "https://localhost:8080/",
          "height": 423
        },
        "id": "bwUwMonNsXZO",
        "outputId": "6c72d719-54b8-4c0c-cddf-220ddede4783"
      },
      "execution_count": 10,
      "outputs": [
        {
          "output_type": "execute_result",
          "data": {
            "text/plain": [
              "       label  pixel0  pixel1  pixel2  pixel3  pixel4  pixel5  pixel6  pixel7  \\\n",
              "0          1       0       0       0       0       0       0       0       0   \n",
              "1          0       0       0       0       0       0       0       0       0   \n",
              "2          1       0       0       0       0       0       0       0       0   \n",
              "3          4       0       0       0       0       0       0       0       0   \n",
              "4          0       0       0       0       0       0       0       0       0   \n",
              "...      ...     ...     ...     ...     ...     ...     ...     ...     ...   \n",
              "41995      0       0       0       0       0       0       0       0       0   \n",
              "41996      1       0       0       0       0       0       0       0       0   \n",
              "41997      7       0       0       0       0       0       0       0       0   \n",
              "41998      6       0       0       0       0       0       0       0       0   \n",
              "41999      9       0       0       0       0       0       0       0       0   \n",
              "\n",
              "       pixel8  ...  pixel774  pixel775  pixel776  pixel777  pixel778  \\\n",
              "0           0  ...         0         0         0         0         0   \n",
              "1           0  ...         0         0         0         0         0   \n",
              "2           0  ...         0         0         0         0         0   \n",
              "3           0  ...         0         0         0         0         0   \n",
              "4           0  ...         0         0         0         0         0   \n",
              "...       ...  ...       ...       ...       ...       ...       ...   \n",
              "41995       0  ...         0         0         0         0         0   \n",
              "41996       0  ...         0         0         0         0         0   \n",
              "41997       0  ...         0         0         0         0         0   \n",
              "41998       0  ...         0         0         0         0         0   \n",
              "41999       0  ...         0         0         0         0         0   \n",
              "\n",
              "       pixel779  pixel780  pixel781  pixel782  pixel783  \n",
              "0             0         0         0         0         0  \n",
              "1             0         0         0         0         0  \n",
              "2             0         0         0         0         0  \n",
              "3             0         0         0         0         0  \n",
              "4             0         0         0         0         0  \n",
              "...         ...       ...       ...       ...       ...  \n",
              "41995         0         0         0         0         0  \n",
              "41996         0         0         0         0         0  \n",
              "41997         0         0         0         0         0  \n",
              "41998         0         0         0         0         0  \n",
              "41999         0         0         0         0         0  \n",
              "\n",
              "[42000 rows x 785 columns]"
            ],
            "text/html": [
              "\n",
              "  <div id=\"df-8ec3fc80-59b0-4a87-826c-97c3352e325b\">\n",
              "    <div class=\"colab-df-container\">\n",
              "      <div>\n",
              "<style scoped>\n",
              "    .dataframe tbody tr th:only-of-type {\n",
              "        vertical-align: middle;\n",
              "    }\n",
              "\n",
              "    .dataframe tbody tr th {\n",
              "        vertical-align: top;\n",
              "    }\n",
              "\n",
              "    .dataframe thead th {\n",
              "        text-align: right;\n",
              "    }\n",
              "</style>\n",
              "<table border=\"1\" class=\"dataframe\">\n",
              "  <thead>\n",
              "    <tr style=\"text-align: right;\">\n",
              "      <th></th>\n",
              "      <th>label</th>\n",
              "      <th>pixel0</th>\n",
              "      <th>pixel1</th>\n",
              "      <th>pixel2</th>\n",
              "      <th>pixel3</th>\n",
              "      <th>pixel4</th>\n",
              "      <th>pixel5</th>\n",
              "      <th>pixel6</th>\n",
              "      <th>pixel7</th>\n",
              "      <th>pixel8</th>\n",
              "      <th>...</th>\n",
              "      <th>pixel774</th>\n",
              "      <th>pixel775</th>\n",
              "      <th>pixel776</th>\n",
              "      <th>pixel777</th>\n",
              "      <th>pixel778</th>\n",
              "      <th>pixel779</th>\n",
              "      <th>pixel780</th>\n",
              "      <th>pixel781</th>\n",
              "      <th>pixel782</th>\n",
              "      <th>pixel783</th>\n",
              "    </tr>\n",
              "  </thead>\n",
              "  <tbody>\n",
              "    <tr>\n",
              "      <th>0</th>\n",
              "      <td>1</td>\n",
              "      <td>0</td>\n",
              "      <td>0</td>\n",
              "      <td>0</td>\n",
              "      <td>0</td>\n",
              "      <td>0</td>\n",
              "      <td>0</td>\n",
              "      <td>0</td>\n",
              "      <td>0</td>\n",
              "      <td>0</td>\n",
              "      <td>...</td>\n",
              "      <td>0</td>\n",
              "      <td>0</td>\n",
              "      <td>0</td>\n",
              "      <td>0</td>\n",
              "      <td>0</td>\n",
              "      <td>0</td>\n",
              "      <td>0</td>\n",
              "      <td>0</td>\n",
              "      <td>0</td>\n",
              "      <td>0</td>\n",
              "    </tr>\n",
              "    <tr>\n",
              "      <th>1</th>\n",
              "      <td>0</td>\n",
              "      <td>0</td>\n",
              "      <td>0</td>\n",
              "      <td>0</td>\n",
              "      <td>0</td>\n",
              "      <td>0</td>\n",
              "      <td>0</td>\n",
              "      <td>0</td>\n",
              "      <td>0</td>\n",
              "      <td>0</td>\n",
              "      <td>...</td>\n",
              "      <td>0</td>\n",
              "      <td>0</td>\n",
              "      <td>0</td>\n",
              "      <td>0</td>\n",
              "      <td>0</td>\n",
              "      <td>0</td>\n",
              "      <td>0</td>\n",
              "      <td>0</td>\n",
              "      <td>0</td>\n",
              "      <td>0</td>\n",
              "    </tr>\n",
              "    <tr>\n",
              "      <th>2</th>\n",
              "      <td>1</td>\n",
              "      <td>0</td>\n",
              "      <td>0</td>\n",
              "      <td>0</td>\n",
              "      <td>0</td>\n",
              "      <td>0</td>\n",
              "      <td>0</td>\n",
              "      <td>0</td>\n",
              "      <td>0</td>\n",
              "      <td>0</td>\n",
              "      <td>...</td>\n",
              "      <td>0</td>\n",
              "      <td>0</td>\n",
              "      <td>0</td>\n",
              "      <td>0</td>\n",
              "      <td>0</td>\n",
              "      <td>0</td>\n",
              "      <td>0</td>\n",
              "      <td>0</td>\n",
              "      <td>0</td>\n",
              "      <td>0</td>\n",
              "    </tr>\n",
              "    <tr>\n",
              "      <th>3</th>\n",
              "      <td>4</td>\n",
              "      <td>0</td>\n",
              "      <td>0</td>\n",
              "      <td>0</td>\n",
              "      <td>0</td>\n",
              "      <td>0</td>\n",
              "      <td>0</td>\n",
              "      <td>0</td>\n",
              "      <td>0</td>\n",
              "      <td>0</td>\n",
              "      <td>...</td>\n",
              "      <td>0</td>\n",
              "      <td>0</td>\n",
              "      <td>0</td>\n",
              "      <td>0</td>\n",
              "      <td>0</td>\n",
              "      <td>0</td>\n",
              "      <td>0</td>\n",
              "      <td>0</td>\n",
              "      <td>0</td>\n",
              "      <td>0</td>\n",
              "    </tr>\n",
              "    <tr>\n",
              "      <th>4</th>\n",
              "      <td>0</td>\n",
              "      <td>0</td>\n",
              "      <td>0</td>\n",
              "      <td>0</td>\n",
              "      <td>0</td>\n",
              "      <td>0</td>\n",
              "      <td>0</td>\n",
              "      <td>0</td>\n",
              "      <td>0</td>\n",
              "      <td>0</td>\n",
              "      <td>...</td>\n",
              "      <td>0</td>\n",
              "      <td>0</td>\n",
              "      <td>0</td>\n",
              "      <td>0</td>\n",
              "      <td>0</td>\n",
              "      <td>0</td>\n",
              "      <td>0</td>\n",
              "      <td>0</td>\n",
              "      <td>0</td>\n",
              "      <td>0</td>\n",
              "    </tr>\n",
              "    <tr>\n",
              "      <th>...</th>\n",
              "      <td>...</td>\n",
              "      <td>...</td>\n",
              "      <td>...</td>\n",
              "      <td>...</td>\n",
              "      <td>...</td>\n",
              "      <td>...</td>\n",
              "      <td>...</td>\n",
              "      <td>...</td>\n",
              "      <td>...</td>\n",
              "      <td>...</td>\n",
              "      <td>...</td>\n",
              "      <td>...</td>\n",
              "      <td>...</td>\n",
              "      <td>...</td>\n",
              "      <td>...</td>\n",
              "      <td>...</td>\n",
              "      <td>...</td>\n",
              "      <td>...</td>\n",
              "      <td>...</td>\n",
              "      <td>...</td>\n",
              "      <td>...</td>\n",
              "    </tr>\n",
              "    <tr>\n",
              "      <th>41995</th>\n",
              "      <td>0</td>\n",
              "      <td>0</td>\n",
              "      <td>0</td>\n",
              "      <td>0</td>\n",
              "      <td>0</td>\n",
              "      <td>0</td>\n",
              "      <td>0</td>\n",
              "      <td>0</td>\n",
              "      <td>0</td>\n",
              "      <td>0</td>\n",
              "      <td>...</td>\n",
              "      <td>0</td>\n",
              "      <td>0</td>\n",
              "      <td>0</td>\n",
              "      <td>0</td>\n",
              "      <td>0</td>\n",
              "      <td>0</td>\n",
              "      <td>0</td>\n",
              "      <td>0</td>\n",
              "      <td>0</td>\n",
              "      <td>0</td>\n",
              "    </tr>\n",
              "    <tr>\n",
              "      <th>41996</th>\n",
              "      <td>1</td>\n",
              "      <td>0</td>\n",
              "      <td>0</td>\n",
              "      <td>0</td>\n",
              "      <td>0</td>\n",
              "      <td>0</td>\n",
              "      <td>0</td>\n",
              "      <td>0</td>\n",
              "      <td>0</td>\n",
              "      <td>0</td>\n",
              "      <td>...</td>\n",
              "      <td>0</td>\n",
              "      <td>0</td>\n",
              "      <td>0</td>\n",
              "      <td>0</td>\n",
              "      <td>0</td>\n",
              "      <td>0</td>\n",
              "      <td>0</td>\n",
              "      <td>0</td>\n",
              "      <td>0</td>\n",
              "      <td>0</td>\n",
              "    </tr>\n",
              "    <tr>\n",
              "      <th>41997</th>\n",
              "      <td>7</td>\n",
              "      <td>0</td>\n",
              "      <td>0</td>\n",
              "      <td>0</td>\n",
              "      <td>0</td>\n",
              "      <td>0</td>\n",
              "      <td>0</td>\n",
              "      <td>0</td>\n",
              "      <td>0</td>\n",
              "      <td>0</td>\n",
              "      <td>...</td>\n",
              "      <td>0</td>\n",
              "      <td>0</td>\n",
              "      <td>0</td>\n",
              "      <td>0</td>\n",
              "      <td>0</td>\n",
              "      <td>0</td>\n",
              "      <td>0</td>\n",
              "      <td>0</td>\n",
              "      <td>0</td>\n",
              "      <td>0</td>\n",
              "    </tr>\n",
              "    <tr>\n",
              "      <th>41998</th>\n",
              "      <td>6</td>\n",
              "      <td>0</td>\n",
              "      <td>0</td>\n",
              "      <td>0</td>\n",
              "      <td>0</td>\n",
              "      <td>0</td>\n",
              "      <td>0</td>\n",
              "      <td>0</td>\n",
              "      <td>0</td>\n",
              "      <td>0</td>\n",
              "      <td>...</td>\n",
              "      <td>0</td>\n",
              "      <td>0</td>\n",
              "      <td>0</td>\n",
              "      <td>0</td>\n",
              "      <td>0</td>\n",
              "      <td>0</td>\n",
              "      <td>0</td>\n",
              "      <td>0</td>\n",
              "      <td>0</td>\n",
              "      <td>0</td>\n",
              "    </tr>\n",
              "    <tr>\n",
              "      <th>41999</th>\n",
              "      <td>9</td>\n",
              "      <td>0</td>\n",
              "      <td>0</td>\n",
              "      <td>0</td>\n",
              "      <td>0</td>\n",
              "      <td>0</td>\n",
              "      <td>0</td>\n",
              "      <td>0</td>\n",
              "      <td>0</td>\n",
              "      <td>0</td>\n",
              "      <td>...</td>\n",
              "      <td>0</td>\n",
              "      <td>0</td>\n",
              "      <td>0</td>\n",
              "      <td>0</td>\n",
              "      <td>0</td>\n",
              "      <td>0</td>\n",
              "      <td>0</td>\n",
              "      <td>0</td>\n",
              "      <td>0</td>\n",
              "      <td>0</td>\n",
              "    </tr>\n",
              "  </tbody>\n",
              "</table>\n",
              "<p>42000 rows × 785 columns</p>\n",
              "</div>\n",
              "      <button class=\"colab-df-convert\" onclick=\"convertToInteractive('df-8ec3fc80-59b0-4a87-826c-97c3352e325b')\"\n",
              "              title=\"Convert this dataframe to an interactive table.\"\n",
              "              style=\"display:none;\">\n",
              "        \n",
              "  <svg xmlns=\"http://www.w3.org/2000/svg\" height=\"24px\"viewBox=\"0 0 24 24\"\n",
              "       width=\"24px\">\n",
              "    <path d=\"M0 0h24v24H0V0z\" fill=\"none\"/>\n",
              "    <path d=\"M18.56 5.44l.94 2.06.94-2.06 2.06-.94-2.06-.94-.94-2.06-.94 2.06-2.06.94zm-11 1L8.5 8.5l.94-2.06 2.06-.94-2.06-.94L8.5 2.5l-.94 2.06-2.06.94zm10 10l.94 2.06.94-2.06 2.06-.94-2.06-.94-.94-2.06-.94 2.06-2.06.94z\"/><path d=\"M17.41 7.96l-1.37-1.37c-.4-.4-.92-.59-1.43-.59-.52 0-1.04.2-1.43.59L10.3 9.45l-7.72 7.72c-.78.78-.78 2.05 0 2.83L4 21.41c.39.39.9.59 1.41.59.51 0 1.02-.2 1.41-.59l7.78-7.78 2.81-2.81c.8-.78.8-2.07 0-2.86zM5.41 20L4 18.59l7.72-7.72 1.47 1.35L5.41 20z\"/>\n",
              "  </svg>\n",
              "      </button>\n",
              "      \n",
              "  <style>\n",
              "    .colab-df-container {\n",
              "      display:flex;\n",
              "      flex-wrap:wrap;\n",
              "      gap: 12px;\n",
              "    }\n",
              "\n",
              "    .colab-df-convert {\n",
              "      background-color: #E8F0FE;\n",
              "      border: none;\n",
              "      border-radius: 50%;\n",
              "      cursor: pointer;\n",
              "      display: none;\n",
              "      fill: #1967D2;\n",
              "      height: 32px;\n",
              "      padding: 0 0 0 0;\n",
              "      width: 32px;\n",
              "    }\n",
              "\n",
              "    .colab-df-convert:hover {\n",
              "      background-color: #E2EBFA;\n",
              "      box-shadow: 0px 1px 2px rgba(60, 64, 67, 0.3), 0px 1px 3px 1px rgba(60, 64, 67, 0.15);\n",
              "      fill: #174EA6;\n",
              "    }\n",
              "\n",
              "    [theme=dark] .colab-df-convert {\n",
              "      background-color: #3B4455;\n",
              "      fill: #D2E3FC;\n",
              "    }\n",
              "\n",
              "    [theme=dark] .colab-df-convert:hover {\n",
              "      background-color: #434B5C;\n",
              "      box-shadow: 0px 1px 3px 1px rgba(0, 0, 0, 0.15);\n",
              "      filter: drop-shadow(0px 1px 2px rgba(0, 0, 0, 0.3));\n",
              "      fill: #FFFFFF;\n",
              "    }\n",
              "  </style>\n",
              "\n",
              "      <script>\n",
              "        const buttonEl =\n",
              "          document.querySelector('#df-8ec3fc80-59b0-4a87-826c-97c3352e325b button.colab-df-convert');\n",
              "        buttonEl.style.display =\n",
              "          google.colab.kernel.accessAllowed ? 'block' : 'none';\n",
              "\n",
              "        async function convertToInteractive(key) {\n",
              "          const element = document.querySelector('#df-8ec3fc80-59b0-4a87-826c-97c3352e325b');\n",
              "          const dataTable =\n",
              "            await google.colab.kernel.invokeFunction('convertToInteractive',\n",
              "                                                     [key], {});\n",
              "          if (!dataTable) return;\n",
              "\n",
              "          const docLinkHtml = 'Like what you see? Visit the ' +\n",
              "            '<a target=\"_blank\" href=https://colab.research.google.com/notebooks/data_table.ipynb>data table notebook</a>'\n",
              "            + ' to learn more about interactive tables.';\n",
              "          element.innerHTML = '';\n",
              "          dataTable['output_type'] = 'display_data';\n",
              "          await google.colab.output.renderOutput(dataTable, element);\n",
              "          const docLink = document.createElement('div');\n",
              "          docLink.innerHTML = docLinkHtml;\n",
              "          element.appendChild(docLink);\n",
              "        }\n",
              "      </script>\n",
              "    </div>\n",
              "  </div>\n",
              "  "
            ]
          },
          "metadata": {},
          "execution_count": 10
        }
      ]
    },
    {
      "cell_type": "code",
      "source": [
        "# pick a sample to plot\n",
        "sample = 34\n",
        "image = raw_df.iloc[sample].values[1:786]\n",
        "# plot the sample\n",
        "fig = plt.figure\n",
        "plt.imshow(image.reshape(28,28), cmap='gray')\n",
        "plt.show()"
      ],
      "metadata": {
        "colab": {
          "base_uri": "https://localhost:8080/",
          "height": 430
        },
        "id": "oxkHwN9YsZc8",
        "outputId": "74ecb8d1-6857-4006-e61f-73aca57f81dd"
      },
      "execution_count": 11,
      "outputs": [
        {
          "output_type": "display_data",
          "data": {
            "text/plain": [
              "<Figure size 640x480 with 1 Axes>"
            ],
            "image/png": "[encoded data removed]"
          },
          "metadata": {}
        }
      ]
    },
    {
      "cell_type": "code",
      "source": [
        "images = []\n",
        "labels = []\n",
        "nums = 10\n",
        "for i in range(nums):\n",
        "  label = raw_df.iloc[i].values[0]\n",
        "  img = raw_df.iloc[i].values[1:786]\n",
        "  labels.append(label)\n",
        "  images.append(img.reshape(28,28))"
      ],
      "metadata": {
        "id": "1CVxSeZNsbhO"
      },
      "execution_count": 12,
      "outputs": []
    },
    {
      "cell_type": "code",
      "source": [
        "num_col = 5\n",
        "num_row = 2\n",
        "\n",
        "# plot images\n",
        "fig, axes = plt.subplots(num_row, num_col, figsize=(1.5*num_col,2*num_row))\n",
        "for i in range(nums):\n",
        "    ax = axes[i//num_col, i%num_col]\n",
        "    ax.imshow(images[i], cmap='gray')\n",
        "    ax.set_title('Label: {}'.format(labels[i]))\n",
        "plt.tight_layout()\n",
        "plt.show()"
      ],
      "metadata": {
        "colab": {
          "base_uri": "https://localhost:8080/",
          "height": 380
        },
        "id": "q5iqxXNnsfuJ",
        "outputId": "853ff52d-4c8c-4c8a-f98a-57adfd99acdb"
      },
      "execution_count": 13,
      "outputs": [
        {
          "output_type": "display_data",
          "data": {
            "text/plain": [
              "<Figure size 750x400 with 10 Axes>"
            ],
            "image/png": "[encoded data removed]"
          },
          "metadata": {}
        }
      ]
    },
    {
      "cell_type": "code",
      "source": [
        "y = raw_df['label'].to_numpy()"
      ],
      "metadata": {
        "id": "wPQuJf8Fshdm"
      },
      "execution_count": 14,
      "outputs": []
    },
    {
      "cell_type": "code",
      "source": [
        "xi = ((raw_df.drop(['label'], axis=1)).iloc[0:42000]).to_numpy()"
      ],
      "metadata": {
        "id": "3AgfXZriskYW"
      },
      "execution_count": 15,
      "outputs": []
    },
    {
      "cell_type": "code",
      "source": [
        "x_train, x_val, y_train, y_val = train_test_split(xi, y, test_size=0.20, random_state=12)"
      ],
      "metadata": {
        "id": "DiUhHZqiso_L"
      },
      "execution_count": 16,
      "outputs": []
    },
    {
      "cell_type": "markdown",
      "source": [
        "# Data augmentation"
      ],
      "metadata": {
        "id": "EB13VwqrCTOU"
      }
    },
    {
      "cell_type": "code",
      "source": [
        "x_train_images = np.array([x.reshape(28,28) for x in x_train])"
      ],
      "metadata": {
        "id": "B89MqU2gPoqb"
      },
      "execution_count": 17,
      "outputs": []
    },
    {
      "cell_type": "code",
      "source": [
        "# plot the sample\n",
        "fig = plt.figure\n",
        "plt.imshow(x_train_images[0], cmap='gray')\n",
        "plt.show()"
      ],
      "metadata": {
        "colab": {
          "base_uri": "https://localhost:8080/",
          "height": 430
        },
        "id": "KsTeNmnJP78T",
        "outputId": "e1599d25-b26b-40d1-a81a-9c9c62592a7c"
      },
      "execution_count": 18,
      "outputs": [
        {
          "output_type": "display_data",
          "data": {
            "text/plain": [
              "<Figure size 640x480 with 1 Axes>"
            ],
            "image/png": "[encoded data removed]"
          },
          "metadata": {}
        }
      ]
    },
    {
      "cell_type": "code",
      "source": [
        "from scipy.ndimage import shift\n",
        "from scipy.ndimage import rotate\n",
        "\n",
        "rotated_image = rotate(x_train_images[0], -50, reshape=False)\n",
        "rotated_image = shift(rotated_image, (0,-2), mode=\"constant\")\n",
        "\n",
        "# plot the sample\n",
        "fig = plt.figure\n",
        "plt.imshow(rotated_image, cmap='gray')\n",
        "plt.show()"
      ],
      "metadata": {
        "colab": {
          "base_uri": "https://localhost:8080/",
          "height": 430
        },
        "id": "nsN8i4y-79f-",
        "outputId": "ef855db7-5f39-4b0f-f98b-b943158fec72"
      },
      "execution_count": 19,
      "outputs": [
        {
          "output_type": "display_data",
          "data": {
            "text/plain": [
              "<Figure size 640x480 with 1 Axes>"
            ],
            "image/png": "[encoded data removed]"
          },
          "metadata": {}
        }
      ]
    },
    {
      "cell_type": "code",
      "source": [
        "X_train_augmented = np.zeros((len(x_train) * 4, 28 * 28))"
      ],
      "metadata": {
        "id": "CcJmST7DBbzr"
      },
      "execution_count": 20,
      "outputs": []
    },
    {
      "cell_type": "code",
      "source": [
        "Y_train_augmented = np.zeros(len(x_train) * 4, dtype=int)"
      ],
      "metadata": {
        "id": "UlolG8LyGO2U"
      },
      "execution_count": 21,
      "outputs": []
    },
    {
      "cell_type": "code",
      "source": [
        "Y_train_augmented[0:10]"
      ],
      "metadata": {
        "colab": {
          "base_uri": "https://localhost:8080/"
        },
        "id": "VCgeGYyNG7Vy",
        "outputId": "da5f4488-fe17-4bda-9c7f-f6a57945751c"
      },
      "execution_count": 22,
      "outputs": [
        {
          "output_type": "execute_result",
          "data": {
            "text/plain": [
              "array([0, 0, 0, 0, 0, 0, 0, 0, 0, 0])"
            ]
          },
          "metadata": {},
          "execution_count": 22
        }
      ]
    },
    {
      "cell_type": "code",
      "source": [
        "augmented_index = 0\n",
        "\n",
        "for dx, dy in ((-1,0), (0,1), (1,0), (0, -1)):\n",
        "  for j in range(len(x_train)):\n",
        "    angle = np.random.randint(-3, 3)\n",
        "    augmented_image = rotate(x_train_images[j], angle=angle, reshape=False)\n",
        "    augmented_image = shift(augmented_image, (dx, dy), mode=\"constant\", cval=0)\n",
        "\n",
        "    X_train_augmented[augmented_index] = augmented_image.reshape(28 * 28)\n",
        "    Y_train_augmented[augmented_index] = int(y_train[j])\n",
        "    augmented_index += 1"
      ],
      "metadata": {
        "id": "IGXvlNWRDDMW"
      },
      "execution_count": 23,
      "outputs": []
    },
    {
      "cell_type": "code",
      "source": [
        "X_train_augmented[0]"
      ],
      "metadata": {
        "colab": {
          "base_uri": "https://localhost:8080/"
        },
        "id": "ipYEVwh8TzJa",
        "outputId": "73353aef-2c44-42f3-c601-72de5b5b5dd8"
      },
      "execution_count": 24,
      "outputs": [
        {
          "output_type": "execute_result",
          "data": {
            "text/plain": [
              "array([  0.,   0.,   0.,   0.,   0.,   0.,   0.,   0.,   0.,   0.,   0.,\n",
              "         0.,   0.,   0.,   0.,   0.,   0.,   0.,   0.,   0.,   0.,   0.,\n",
              "         0.,   0.,   0.,   0.,   0.,   0.,   0.,   0.,   0.,   0.,   0.,\n",
              "         0.,   0.,   0.,   0.,   0.,   0.,   0.,   0.,   0.,   0.,   0.,\n",
              "         0.,   0.,   0.,   0.,   0.,   0.,   0.,   0.,   0.,   0.,   0.,\n",
              "         0.,   0.,   0.,   0.,   0.,   0.,   0.,   0.,   0.,   0.,   0.,\n",
              "         0.,   0.,   0.,   0.,   0.,   0.,   0.,   0.,   0.,   0.,   0.,\n",
              "         0.,   0.,   0.,   0.,   0.,   0.,   0.,   0.,   0.,   0.,   0.,\n",
              "         0.,   0.,   0.,   0.,   0.,   0.,   0.,   0.,   0.,   0.,   0.,\n",
              "         0.,   0.,   0.,   0.,   0.,   0.,   0.,   0.,   0.,   0.,   0.,\n",
              "         0.,   0.,   0.,   0.,   0.,   0.,   0.,   0.,   0.,   0.,   0.,\n",
              "         0.,   0.,   0.,   0.,   0.,   0.,   0.,   0.,   0.,   0.,   0.,\n",
              "         0.,   0.,   0.,   0.,   0.,   0.,   0.,   0.,   0.,   0.,   0.,\n",
              "         0.,   0.,   0.,   0.,   0.,   0.,   0.,   0.,   0.,   0., 128.,\n",
              "       254., 254., 254., 229.,  65.,   0.,   0.,   0.,   0.,   0.,   0.,\n",
              "         0.,   0.,   0.,   0.,   0.,   0.,   0.,   0.,   0.,   0.,   0.,\n",
              "         0.,   0.,   0.,   5.,  80., 245., 253., 253., 253., 254., 249.,\n",
              "       142.,   0.,   0.,   0.,   0.,   0.,   0.,   0.,   0.,   0.,   0.,\n",
              "         0.,   0.,   0.,   0.,   0.,   0.,   0.,   0.,  13., 178., 253.,\n",
              "       254.,  98., 122., 171., 237., 253., 230.,   0.,   0.,   0.,   0.,\n",
              "         0.,   0.,   0.,   0.,   0.,   0.,   0.,   0.,   0.,   0.,   0.,\n",
              "         0.,   0.,   0., 206., 253., 253., 103.,   6.,   0.,   0.,  70.,\n",
              "       253., 246.,  84.,   0.,   0.,   0.,   0.,   0.,   0.,   0.,   0.,\n",
              "         0.,   0.,   0.,   0.,   0.,   0.,   0.,   0.,  70., 254., 254.,\n",
              "       103.,   0.,   0.,   0.,   0.,  70., 254., 254., 161.,   0.,   0.,\n",
              "         0.,   0.,   0.,   0.,   0.,   0.,   0.,   0.,   0.,   0.,   0.,\n",
              "         0.,   0.,   0.,  70., 253., 248.,  56.,   0.,   0.,   0.,  17.,\n",
              "       170., 253., 248.,  98.,   0.,   0.,   0.,   0.,   0.,   0.,   0.,\n",
              "         0.,   0.,   0.,   0.,   0.,   0.,   0.,   0.,   0.,  63., 251.,\n",
              "       240.,  32.,   0.,   0.,   0., 101., 254., 253., 145.,   0.,   0.,\n",
              "         0.,   0.,   0.,   0.,   0.,   0.,   0.,   0.,   0.,   0.,   0.,\n",
              "         0.,   0.,   0.,   0.,   0., 230., 253., 103.,   0.,   0.,  43.,\n",
              "       209., 254., 219.,  13.,   0.,   0.,   0.,   0.,   0.,   0.,   0.,\n",
              "         0.,   0.,   0.,   0.,   0.,   0.,   0.,   0.,   0.,   0.,   0.,\n",
              "       172., 254., 254., 255., 186., 254., 254., 255., 207.,   0.,   0.,\n",
              "         0.,   0.,   0.,   0.,   0.,   0.,   0.,   0.,   0.,   0.,   0.,\n",
              "         0.,   0.,   0.,   0.,   0.,   0.,  46., 244., 253., 254., 253.,\n",
              "       253., 253., 241.,  69.,   0.,   0.,   0.,   0.,   0.,   0.,   0.,\n",
              "         0.,   0.,   0.,   0.,   0.,   0.,   0.,   0.,   0.,   0.,   0.,\n",
              "         0.,   0.,  46., 137., 197., 251., 253., 253., 134.,   0.,   0.,\n",
              "         0.,   0.,   0.,   0.,   0.,   0.,   0.,   0.,   0.,   0.,   0.,\n",
              "         0.,   0.,   0.,   0.,   0.,   0.,   0.,   0.,   0.,   0.,   0.,\n",
              "       230., 253., 219.,   0.,   0.,   0.,   0.,   0.,   0.,   0.,   0.,\n",
              "         0.,   0.,   0.,   0.,   0.,   0.,   0.,   0.,   0.,   0.,   0.,\n",
              "         0.,   0.,   0.,   0.,   0., 128., 254., 254., 136.,   0.,   0.,\n",
              "         0.,   0.,   0.,   0.,   0.,   0.,   0.,   0.,   0.,   0.,   0.,\n",
              "         0.,   0.,   0.,   0.,   0.,   0.,   0.,   0.,   0.,   0.,   0.,\n",
              "       212., 253., 215.,   6.,   0.,   0.,   0.,   0.,   0.,   0.,   0.,\n",
              "         0.,   0.,   0.,   0.,   0.,   0.,   0.,   0.,   0.,   0.,   0.,\n",
              "         0.,   0.,   0.,   0.,   0., 119., 254., 253.,  96.,   0.,   0.,\n",
              "         0.,   0.,   0.,   0.,   0.,   0.,   0.,   0.,   0.,   0.,   0.,\n",
              "         0.,   0.,   0.,   0.,   0.,   0.,   0.,   0.,   0.,   0.,  51.,\n",
              "       234., 254., 119.,  13.,   0.,   0.,   0.,   0.,   0.,   0.,   0.,\n",
              "         0.,   0.,   0.,   0.,   0.,   0.,   0.,   0.,   0.,   0.,   0.,\n",
              "         0.,   0.,   0.,   0.,  13., 221., 254., 102.,   0.,   0.,   0.,\n",
              "         0.,   0.,   0.,   0.,   0.,   0.,   0.,   0.,   0.,   0.,   0.,\n",
              "         0.,   0.,   0.,   0.,   0.,   0.,   0.,   0.,   0.,  13., 185.,\n",
              "       253., 236.,   0.,   0.,   0.,   0.,   0.,   0.,   0.,   0.,   0.,\n",
              "         0.,   0.,   0.,   0.,   0.,   0.,   0.,   0.,   0.,   0.,   0.,\n",
              "         0.,   0.,   0.,   0., 112., 253., 242.,  54.,   0.,   0.,   0.,\n",
              "         0.,   0.,   0.,   0.,   0.,   0.,   0.,   0.,   0.,   0.,   0.,\n",
              "         0.,   0.,   0.,   0.,   0.,   0.,   0.,   0.,   0.,   0., 128.,\n",
              "       253.,  96.,   0.,   0.,   0.,   0.,   0.,   0.,   0.,   0.,   0.,\n",
              "         0.,   0.,   0.,   0.,   0.,   0.,   0.,   0.,   0.,   0.,   0.,\n",
              "         0.,   0.,   0.,   0.,   0.,   0.,   0.,   0.,   0.,   0.,   0.,\n",
              "         0.,   0.,   0.,   0.,   0.,   0.,   0.,   0.,   0.,   0.,   0.,\n",
              "         0.,   0.,   0.,   0.,   0.,   0.,   0.,   0.,   0.,   0.,   0.,\n",
              "         0.,   0.,   0.,   0.,   0.,   0.,   0.,   0.,   0.,   0.,   0.,\n",
              "         0.,   0.,   0.,   0.,   0.,   0.,   0.,   0.,   0.,   0.,   0.,\n",
              "         0.,   0.,   0.,   0.,   0.,   0.,   0.,   0.,   0.,   0.,   0.,\n",
              "         0.,   0.,   0.,   0.,   0.,   0.,   0.,   0.,   0.,   0.,   0.,\n",
              "         0.,   0.,   0.])"
            ]
          },
          "metadata": {},
          "execution_count": 24
        }
      ]
    },
    {
      "cell_type": "code",
      "source": [
        "# plot the sample\n",
        "fig = plt.figure\n",
        "plt.imshow(X_train_augmented[0].reshape(28, 28), cmap='gray')\n",
        "plt.show()"
      ],
      "metadata": {
        "colab": {
          "base_uri": "https://localhost:8080/",
          "height": 430
        },
        "id": "jYMmGfE3_oaC",
        "outputId": "52bb003a-fdd2-4d04-9383-921c8ea9f604"
      },
      "execution_count": 25,
      "outputs": [
        {
          "output_type": "display_data",
          "data": {
            "text/plain": [
              "<Figure size 640x480 with 1 Axes>"
            ],
            "image/png": "[encoded data removed]"
          },
          "metadata": {}
        }
      ]
    },
    {
      "cell_type": "code",
      "source": [
        "Y_train_augmented[0]"
      ],
      "metadata": {
        "colab": {
          "base_uri": "https://localhost:8080/"
        },
        "id": "W1Uvze6jI7oD",
        "outputId": "e8445831-01c8-44f3-d3fe-95357af518a4"
      },
      "execution_count": 26,
      "outputs": [
        {
          "output_type": "execute_result",
          "data": {
            "text/plain": [
              "9"
            ]
          },
          "metadata": {},
          "execution_count": 26
        }
      ]
    },
    {
      "cell_type": "markdown",
      "source": [
        "# Neural Network"
      ],
      "metadata": {
        "id": "Bq7GdO-_8_k0"
      }
    },
    {
      "cell_type": "code",
      "source": [
        "class DenseLayer:\n",
        "  def __init__(self, numOfNodesIn, numOfNodesOut):\n",
        "    self.numOfNodesIn= numOfNodesIn\n",
        "    self.numOfNodesOut = numOfNodesOut\n",
        "    self.weights = np.random.uniform(-1, 1, size=(self.numOfNodesIn, self.numOfNodesOut))\n",
        "    self.bias = np.random.uniform(-1,1,size=(self.numOfNodesOut))\n",
        "    self.weightsChange = np.zeros((self.numOfNodesIn, self.numOfNodesOut))\n",
        "    self.biasChange = np.zeros((self.numOfNodesOut))\n",
        "\n",
        "  def forward(self, inputs):\n",
        "    self.inputs = inputs\n",
        "    return np.dot(inputs, self.weights) + self.bias\n",
        "\n",
        "  def backward(self, error, learning_rate, momentum):\n",
        "    weights_error = np.dot(self.inputs.T, error) * (1/len(self.inputs))\n",
        "    bias_error = np.sum(error.T, 1) * (1/len(self.inputs))\n",
        "    input_error = np.dot(error, self.weights.T)\n",
        "\n",
        "    weights_diff = weights_error * learning_rate + momentum * self.weightsChange\n",
        "    bias_diff = bias_error * learning_rate + momentum * self.biasChange\n",
        "\n",
        "    self.weights = self.weights - weights_diff\n",
        "    self.bias = self.bias - bias_diff\n",
        "\n",
        "    self.weightsChange = weights_diff\n",
        "    self.biasChange = bias_diff\n",
        "\n",
        "    return input_error"
      ],
      "metadata": {
        "id": "gzrGYdVb7jJf"
      },
      "execution_count": 27,
      "outputs": []
    },
    {
      "cell_type": "code",
      "source": [
        "class ActivationLayer:\n",
        "  def __init__(self, activation, activation_prime):\n",
        "    self.activation = activation\n",
        "    self.activation_prime = activation_prime\n",
        "\n",
        "  def forward(self, inputs):\n",
        "    self.inputs = inputs\n",
        "    return self.activation(inputs)\n",
        "\n",
        "  def backward(self, error, learning_rate, momentum):\n",
        "    return error * self.activation_prime(self.inputs)"
      ],
      "metadata": {
        "id": "2DTLl2M19uAI"
      },
      "execution_count": 28,
      "outputs": []
    },
    {
      "cell_type": "code",
      "source": [
        "class SoftmaxLayer:\n",
        "  def __init__(self, input_size, loss=None):\n",
        "    self.input_size = input_size\n",
        "    self.loss = loss\n",
        "\n",
        "  def forward(self, inputs):\n",
        "    #subtracting the max of z for numerical stability\n",
        "    exp = np.exp( inputs - np.max(inputs) )\n",
        "\n",
        "    for i in range(len(inputs)):\n",
        "      exp[i] /= np.sum(exp[i])\n",
        "\n",
        "    self.output = exp\n",
        "\n",
        "    return exp\n",
        "\n",
        "  def backward(self, error, learning_rate, momentum):\n",
        "    if self.loss == \"cross entropy loss\":\n",
        "      return self.output - error\n",
        "\n",
        "    output = np.zeros((len(error), self.input_size))\n",
        "    for i in range(len(error)):\n",
        "      out = np.tile(self.output[i], (self.input_size, 1))\n",
        "      I = np.identity(self.input_size)\n",
        "      da = np.dot(out.T * (I - out), error[i])\n",
        "      output[i] = da\n",
        "\n",
        "    return output"
      ],
      "metadata": {
        "id": "t9nWWaeJRTyv"
      },
      "execution_count": 29,
      "outputs": []
    },
    {
      "cell_type": "code",
      "source": [
        "def Relu(x):\n",
        "  return np.maximum(0, x)\n",
        "\n",
        "def deriv_Relu(x):\n",
        "  return x > 0"
      ],
      "metadata": {
        "id": "oQM064H7Ux00"
      },
      "execution_count": 30,
      "outputs": []
    },
    {
      "cell_type": "code",
      "source": [
        "def sigmoid(x):\n",
        "  return 1 / (1 + np.exp(-x))\n",
        "\n",
        "def deriv_sigmoid(x):\n",
        "  return np.exp(-x) / (1 + np.exp(-x))**2"
      ],
      "metadata": {
        "id": "YJ-MQGoFXgKz"
      },
      "execution_count": 31,
      "outputs": []
    },
    {
      "cell_type": "code",
      "source": [
        "def tahn(x):\n",
        "  return (np.exp(x) - np.exp(-x)) / (np.exp(x) + np.exp(-x))\n",
        "\n",
        "def deriv_tahn(x):\n",
        "  return 1 - tahn(x)**2"
      ],
      "metadata": {
        "id": "FG_aldLYZa0e"
      },
      "execution_count": 32,
      "outputs": []
    },
    {
      "cell_type": "code",
      "source": [
        "def mse(y_true, y_hat):\n",
        "  return np.power((y_true - y_hat), 2).mean()\n",
        "\n",
        "def deriv_mse(y_true, y_hat):\n",
        "  return 2 * (y_true - y_hat) / len(y_hat)"
      ],
      "metadata": {
        "id": "-ddxaxLhbJRJ"
      },
      "execution_count": 33,
      "outputs": []
    },
    {
      "cell_type": "code",
      "source": [
        "def cross_entropy_loss(y_true, y_hat):\n",
        "  return -np.mean(np.log(y_hat[np.arange(len(y_true)), y_true] + 1e-8))"
      ],
      "metadata": {
        "id": "6pjz8FQtU1J3"
      },
      "execution_count": 34,
      "outputs": []
    },
    {
      "cell_type": "code",
      "source": [
        "class Network:\n",
        "  def __init__(self):\n",
        "    self.layers = []\n",
        "    self.loss = None\n",
        "    self.deriv_loss = None\n",
        "\n",
        "  @staticmethod\n",
        "  def normalize(X):\n",
        "    # return (X - X.mean(axis=0)) / X.std(axis=0)\n",
        "    # m = np.max(X)\n",
        "    # return X / m\n",
        "    #for digit dataset\n",
        "    return X / 255\n",
        "\n",
        "  @staticmethod\n",
        "  def one_hot(y, c):\n",
        "    y_hot = np.zeros((len(y), c))\n",
        "\n",
        "    y_hot[np.arange(len(y)), y] = 1\n",
        "\n",
        "    return y_hot\n",
        "\n",
        "  def add(self, layer):\n",
        "    self.layers.append(layer)\n",
        "\n",
        "  def use(self, loss, deriv_loss):\n",
        "    self.loss = loss\n",
        "    self.deriv_loss = deriv_loss\n",
        "\n",
        "  def forward_pass(self, inputs):\n",
        "    output = inputs\n",
        "    for layer in self.layers:\n",
        "      output = layer.forward(output)\n",
        "\n",
        "    return output\n",
        "\n",
        "  def backward_propagation(self, error, learning_rate, momentum):\n",
        "    output_error = error\n",
        "\n",
        "    for layer in reversed(self.layers):\n",
        "      output_error = layer.backward(output_error, learning_rate, momentum)\n",
        "\n",
        "    return output_error\n",
        "\n",
        "  def predict(self, inputs):\n",
        "\n",
        "    inputs = self.normalize(inputs)\n",
        "\n",
        "    prob = self.forward_pass(inputs)\n",
        "\n",
        "    return prob, np.argmax(prob, axis=1)\n",
        "\n",
        "  def train(self, X, y, learning_rate, momentum=0.0, epochs=100, batch_size=100):\n",
        "\n",
        "    M, n = X.shape\n",
        "\n",
        "    x = self.normalize(X)\n",
        "\n",
        "    hist = []\n",
        "\n",
        "    # training\n",
        "    for epoch in range(epochs):\n",
        "      print(f'epoch {epoch + 1}/{epochs}')\n",
        "\n",
        "      shuffled_indices = np.random.permutation(M)\n",
        "      shuffled_x = x[shuffled_indices]\n",
        "      shuffled_y = y[shuffled_indices]\n",
        "\n",
        "      for i in range((M-1)//batch_size + 1):\n",
        "\n",
        "        start_i = i * batch_size\n",
        "        end_i = start_i + batch_size\n",
        "\n",
        "        xi = shuffled_x[start_i:end_i]\n",
        "        yi = shuffled_y[start_i:end_i]\n",
        "\n",
        "        y_hot = self.one_hot(yi, self.layers[-1].input_size)\n",
        "\n",
        "        #forward\n",
        "        output = self.forward_pass(xi)\n",
        "\n",
        "        #error\n",
        "        loss = self.loss(yi, output)\n",
        "        hist.append(loss)\n",
        "\n",
        "        #backward\n",
        "        if self.deriv_loss == \"cross entropy loss\" and isinstance(self.layers[-1], SoftmaxLayer):\n",
        "          output_error = y_hot\n",
        "        else:\n",
        "          output_error = self.deriv_loss(y_hot, output)\n",
        "\n",
        "        output_error = self.backward_propagation(output_error, learning_rate, momentum)\n",
        "\n",
        "      print(f'loss = {loss}')\n",
        "\n",
        "    return hist\n",
        "\n",
        "\n",
        "  # def train(self, X, y, learning_rate, epochs=100):\n",
        "\n",
        "  #   x = self.normalize(X)\n",
        "\n",
        "  #   hist = []\n",
        "\n",
        "  #   # training\n",
        "  #   for epoch in range(epochs):\n",
        "  #     # forward\n",
        "  #     output = self.forward_pass(x)\n",
        "\n",
        "  #     # error (display purpose only)\n",
        "  #     error = self.loss(y, output)\n",
        "  #     hist.append(error)\n",
        "\n",
        "  #     # backward\n",
        "  #     # output_error = deriv_mse(one_hot_labels, output)\n",
        "\n",
        "  #     y_hot = self.one_hot(y, self.layers[-1].input_size)\n",
        "\n",
        "  #     if self.deriv_loss == \"cross entropy loss\" and isinstance(self.layers[-1], SoftmaxLayer):\n",
        "  #       output_error = y_hot\n",
        "  #     else:\n",
        "  #       output_error = self.deriv_loss(y_hot, output)\n",
        "\n",
        "  #     self.backward_propagation(output_error, learning_rate)\n",
        "\n",
        "  #     print(f'{epoch + 1}/{epochs}, loss = {error}')\n",
        "\n",
        "  #   return hist\n"
      ],
      "metadata": {
        "id": "XA-sjALIU33Y"
      },
      "execution_count": 35,
      "outputs": []
    },
    {
      "cell_type": "markdown",
      "source": [
        "# Trying models with different activation functions"
      ],
      "metadata": {
        "id": "gNYlcfer5-g1"
      }
    },
    {
      "cell_type": "markdown",
      "source": [
        "## Relu functin"
      ],
      "metadata": {
        "id": "5Xn9kEe16R2Q"
      }
    },
    {
      "cell_type": "code",
      "source": [
        "model_1 = Network()"
      ],
      "metadata": {
        "id": "z3r_EDnnU63_"
      },
      "execution_count": 36,
      "outputs": []
    },
    {
      "cell_type": "code",
      "source": [
        "model_1.add(DenseLayer(784,128))\n",
        "model_1.add(ActivationLayer(Relu, deriv_Relu))\n",
        "model_1.add(DenseLayer(128,10))\n",
        "model_1.add(SoftmaxLayer(10, loss=\"cross entropy loss\"))"
      ],
      "metadata": {
        "id": "RRSbL3fDU9H2"
      },
      "execution_count": 37,
      "outputs": []
    },
    {
      "cell_type": "code",
      "source": [
        "model_1.use(cross_entropy_loss, \"cross entropy loss\")"
      ],
      "metadata": {
        "id": "8--InoLIU-oe"
      },
      "execution_count": 38,
      "outputs": []
    },
    {
      "cell_type": "code",
      "source": [
        "history_1 = model_1.train(X_train_augmented, Y_train_augmented, 0.1, 0.9, 40, 100)"
      ],
      "metadata": {
        "colab": {
          "base_uri": "https://localhost:8080/"
        },
        "id": "5Qsag4ZbVFTs",
        "outputId": "d074cd40-27e1-4073-db38-0e890b0e7a4c"
      },
      "execution_count": 39,
      "outputs": [
        {
          "output_type": "stream",
          "name": "stdout",
          "text": [
            "epoch 1/40\n",
            "loss = 0.26026836558658745\n",
            "epoch 2/40\n",
            "loss = 0.3014509293384004\n",
            "epoch 3/40\n",
            "loss = 0.2254820287749845\n",
            "epoch 4/40\n",
            "loss = 0.2413384517168355\n",
            "epoch 5/40\n",
            "loss = 0.1547165309073637\n",
            "epoch 6/40\n",
            "loss = 0.06788035144834396\n",
            "epoch 7/40\n",
            "loss = 0.045086080821410954\n",
            "epoch 8/40\n",
            "loss = 0.1470120053959896\n",
            "epoch 9/40\n",
            "loss = 0.043495933823806385\n",
            "epoch 10/40\n",
            "loss = 0.13147261078548397\n",
            "epoch 11/40\n",
            "loss = 0.0256159689172182\n",
            "epoch 12/40\n",
            "loss = 0.14668990581117294\n",
            "epoch 13/40\n",
            "loss = 0.03786694412383089\n",
            "epoch 14/40\n",
            "loss = 0.06849231485722422\n",
            "epoch 15/40\n",
            "loss = 0.05871730756129427\n",
            "epoch 16/40\n",
            "loss = 0.10766276253080098\n",
            "epoch 17/40\n",
            "loss = 0.030687504207251467\n",
            "epoch 18/40\n",
            "loss = 0.019228839610284088\n",
            "epoch 19/40\n",
            "loss = 0.036880259916751285\n",
            "epoch 20/40\n",
            "loss = 0.01425084344178168\n",
            "epoch 21/40\n",
            "loss = 0.03818710840905055\n",
            "epoch 22/40\n",
            "loss = 0.06192041570834722\n",
            "epoch 23/40\n",
            "loss = 0.001593236676509609\n",
            "epoch 24/40\n",
            "loss = 0.0205320870795427\n",
            "epoch 25/40\n",
            "loss = 0.010551098152455661\n",
            "epoch 26/40\n",
            "loss = 0.02902199231519851\n",
            "epoch 27/40\n",
            "loss = 0.010387392082937734\n",
            "epoch 28/40\n",
            "loss = 0.0052582010000373795\n",
            "epoch 29/40\n",
            "loss = 0.06823443623929622\n",
            "epoch 30/40\n",
            "loss = 0.00134954441351902\n",
            "epoch 31/40\n",
            "loss = 0.012552410262575071\n",
            "epoch 32/40\n",
            "loss = 0.004056188313821778\n",
            "epoch 33/40\n",
            "loss = 0.036792412281842296\n",
            "epoch 34/40\n",
            "loss = 0.03521567269751209\n",
            "epoch 35/40\n",
            "loss = 0.022491835589012375\n",
            "epoch 36/40\n",
            "loss = 0.007773455874966251\n",
            "epoch 37/40\n",
            "loss = 0.029256144998724518\n",
            "epoch 38/40\n",
            "loss = 0.0015556223364796222\n",
            "epoch 39/40\n",
            "loss = 0.0061628102524009035\n",
            "epoch 40/40\n",
            "loss = 0.04953382378461013\n"
          ]
        }
      ]
    },
    {
      "cell_type": "code",
      "source": [
        "fig, ax = plt.subplots(figsize=(12,6))\n",
        "\n",
        "plt.title(\"Loss Function for model 1\", fontsize='15')\n",
        "plt.xlabel('Number of Iterations', fontsize='15')\n",
        "plt.ylabel(r'Loss(w, b)', fontsize='15')\n",
        "# plt.figtext(x=.56, y=.6, s=\"At the final iteration:\\n\\nw = {}\\nb = {}\".format(w, b))\n",
        "ax.plot(history_1, 'b')\n",
        "ax.grid()\n",
        "plt.show()"
      ],
      "metadata": {
        "colab": {
          "base_uri": "https://localhost:8080/",
          "height": 572
        },
        "id": "S3WeuUPBVWQs",
        "outputId": "03819c3b-5873-4f17-e2ef-2d5776662cf4"
      },
      "execution_count": 40,
      "outputs": [
        {
          "output_type": "display_data",
          "data": {
            "text/plain": [
              "<Figure size 1200x600 with 1 Axes>"
            ],
            "image/png": "[encoded data removed]"
          },
          "metadata": {}
        }
      ]
    },
    {
      "cell_type": "code",
      "source": [
        "prob_1, y_hat_1 = model_1.predict(x_val)"
      ],
      "metadata": {
        "id": "NcxTUL-NVjMl"
      },
      "execution_count": 41,
      "outputs": []
    },
    {
      "cell_type": "code",
      "source": [
        "accuracy = np.sum(y_val == y_hat_1) / len(y_val)"
      ],
      "metadata": {
        "id": "0-l8SOC9VnFh"
      },
      "execution_count": 45,
      "outputs": []
    },
    {
      "cell_type": "code",
      "source": [
        "accuracy"
      ],
      "metadata": {
        "colab": {
          "base_uri": "https://localhost:8080/"
        },
        "id": "XO1SWPO0Vyhu",
        "outputId": "b072c266-e53d-42d6-efb6-6ccf629bcdc3"
      },
      "execution_count": 46,
      "outputs": [
        {
          "output_type": "execute_result",
          "data": {
            "text/plain": [
              "0.9719047619047619"
            ]
          },
          "metadata": {},
          "execution_count": 46
        }
      ]
    },
    {
      "cell_type": "code",
      "source": [
        "num_col = 5\n",
        "num_row = 2\n",
        "nums = 10\n",
        "\n",
        "# plot images\n",
        "fig, axes = plt.subplots(num_row, num_col, figsize=(4*num_col,4*num_row))\n",
        "for i in range(nums):\n",
        "    ax = axes[i//num_col, i%num_col]\n",
        "    ax.imshow(x_val[i].reshape(28,28), cmap='gray')\n",
        "    ax.set_title(f'y_hat = {y_hat_1[i]} w/ prob={round(np.max(prob_1[i]), 2)}, true y = {y_val[i]}')\n",
        "plt.tight_layout()\n",
        "plt.show()"
      ],
      "metadata": {
        "colab": {
          "base_uri": "https://localhost:8080/",
          "height": 819
        },
        "id": "l0MQYHVsV2Dq",
        "outputId": "5fc1a7c8-f85a-4e95-a106-91991d2d68b4"
      },
      "execution_count": 48,
      "outputs": [
        {
          "output_type": "display_data",
          "data": {
            "text/plain": [
              "<Figure size 2000x800 with 10 Axes>"
            ],
            "image/png": "[encoded data removed]"
          },
          "metadata": {}
        }
      ]
    },
    {
      "cell_type": "code",
      "source": [
        "from sklearn.metrics import confusion_matrix\n",
        "confusion_matrix_1 = confusion_matrix(y_val, y_hat_1)\n",
        "print(confusion_matrix_1)"
      ],
      "metadata": {
        "colab": {
          "base_uri": "https://localhost:8080/"
        },
        "id": "_-lqUVZE_D3j",
        "outputId": "b0cc2798-624f-409c-e28a-3a429cbe2aa8"
      },
      "execution_count": 80,
      "outputs": [
        {
          "output_type": "stream",
          "name": "stdout",
          "text": [
            "[[844   0   3   0   0   0   5   0   4   1]\n",
            " [  0 930   1   2   1   0   1   0   4   0]\n",
            " [  3   3 772   9   2   0   0   2   8   1]\n",
            " [  1   1   2 867   0  12   0   0   9   3]\n",
            " [  0   2   0   0 760   0   2   1   1  17]\n",
            " [  1   1   0   6   0 734   9   2   2   5]\n",
            " [  2   0   1   1   1   1 848   0   1   0]\n",
            " [  2   4   8   2   3   2   0 827   2   9]\n",
            " [  3   2   5   7   4   6   6   1 781   5]\n",
            " [  3   2   0   4  12   3   0   3   4 801]]\n"
          ]
        }
      ]
    },
    {
      "cell_type": "markdown",
      "source": [
        "## Sigmoid function"
      ],
      "metadata": {
        "id": "C5ICSs-D7GFR"
      }
    },
    {
      "cell_type": "code",
      "source": [
        "model_2 = Network()"
      ],
      "metadata": {
        "id": "u31ZGzleGvQZ"
      },
      "execution_count": 54,
      "outputs": []
    },
    {
      "cell_type": "code",
      "source": [
        "model_2.add(DenseLayer(784,128))\n",
        "model_2.add(ActivationLayer(sigmoid, deriv_sigmoid))\n",
        "model_2.add(DenseLayer(128,10))\n",
        "model_2.add(SoftmaxLayer(10, loss=\"cross entropy loss\"))"
      ],
      "metadata": {
        "id": "_IQOkm7N7PSN"
      },
      "execution_count": 55,
      "outputs": []
    },
    {
      "cell_type": "code",
      "source": [
        "model_2.use(cross_entropy_loss, \"cross entropy loss\")"
      ],
      "metadata": {
        "id": "a08iHrJ67ajX"
      },
      "execution_count": 56,
      "outputs": []
    },
    {
      "cell_type": "code",
      "source": [
        "history_2 = model_2.train(X_train_augmented, Y_train_augmented, 0.1, 0.9, 40, 100)"
      ],
      "metadata": {
        "colab": {
          "base_uri": "https://localhost:8080/"
        },
        "id": "uA9tVNno7fn9",
        "outputId": "cf62ca82-a251-40fb-9072-9a475166b8c0"
      },
      "execution_count": 57,
      "outputs": [
        {
          "output_type": "stream",
          "name": "stdout",
          "text": [
            "epoch 1/40\n",
            "loss = 0.20180789859068823\n",
            "epoch 2/40\n",
            "loss = 0.1252456293605497\n",
            "epoch 3/40\n",
            "loss = 0.14329070460814322\n",
            "epoch 4/40\n",
            "loss = 0.22894820678949007\n",
            "epoch 5/40\n",
            "loss = 0.11184795581212245\n",
            "epoch 6/40\n",
            "loss = 0.1074173860611707\n",
            "epoch 7/40\n",
            "loss = 0.09488457272008509\n",
            "epoch 8/40\n",
            "loss = 0.06665746539342128\n",
            "epoch 9/40\n",
            "loss = 0.12365028583953609\n",
            "epoch 10/40\n",
            "loss = 0.03968886197690624\n",
            "epoch 11/40\n",
            "loss = 0.08425477213762272\n",
            "epoch 12/40\n",
            "loss = 0.05139817397760071\n",
            "epoch 13/40\n",
            "loss = 0.01384809148981173\n",
            "epoch 14/40\n",
            "loss = 0.07266975802651854\n",
            "epoch 15/40\n",
            "loss = 0.04039459820395688\n",
            "epoch 16/40\n",
            "loss = 0.02559463021747218\n",
            "epoch 17/40\n",
            "loss = 0.027431459322334394\n",
            "epoch 18/40\n",
            "loss = 0.01600141042560888\n",
            "epoch 19/40\n",
            "loss = 0.01672815023387383\n",
            "epoch 20/40\n",
            "loss = 0.018004894668949393\n",
            "epoch 21/40\n",
            "loss = 0.046566655163340326\n",
            "epoch 22/40\n",
            "loss = 0.02108499671796036\n",
            "epoch 23/40\n",
            "loss = 0.06087927745576142\n",
            "epoch 24/40\n",
            "loss = 0.010270408916267421\n",
            "epoch 25/40\n",
            "loss = 0.13353574076971209\n",
            "epoch 26/40\n",
            "loss = 0.012204202289254397\n",
            "epoch 27/40\n",
            "loss = 0.017918027684961556\n",
            "epoch 28/40\n",
            "loss = 0.009814523311188733\n",
            "epoch 29/40\n",
            "loss = 0.02614641136507156\n",
            "epoch 30/40\n",
            "loss = 0.007625576417658359\n",
            "epoch 31/40\n",
            "loss = 0.04683970718658191\n",
            "epoch 32/40\n",
            "loss = 0.02978646803246526\n",
            "epoch 33/40\n",
            "loss = 0.019101676449939424\n",
            "epoch 34/40\n",
            "loss = 0.004705518948630785\n",
            "epoch 35/40\n",
            "loss = 0.017558666300478237\n",
            "epoch 36/40\n",
            "loss = 0.007596138962325338\n",
            "epoch 37/40\n",
            "loss = 0.013567915678401208\n",
            "epoch 38/40\n",
            "loss = 0.009166569773751358\n",
            "epoch 39/40\n",
            "loss = 0.011640718632339002\n",
            "epoch 40/40\n",
            "loss = 0.008039124316793057\n"
          ]
        }
      ]
    },
    {
      "cell_type": "code",
      "source": [
        "fig, ax = plt.subplots(figsize=(12,6))\n",
        "\n",
        "plt.title(\"Loss Function for model 2\", fontsize='15')\n",
        "plt.xlabel('Number of Iterations', fontsize='15')\n",
        "plt.ylabel(r'Loss(w, b)', fontsize='15')\n",
        "# plt.figtext(x=.56, y=.6, s=\"At the final iteration:\\n\\nw = {}\\nb = {}\".format(w, b))\n",
        "ax.plot(history_2, 'b')\n",
        "ax.grid()\n",
        "plt.show()"
      ],
      "metadata": {
        "colab": {
          "base_uri": "https://localhost:8080/",
          "height": 572
        },
        "id": "A-G3r3tc7kxZ",
        "outputId": "a152585c-26ec-4cb0-b994-2add62a82210"
      },
      "execution_count": 58,
      "outputs": [
        {
          "output_type": "display_data",
          "data": {
            "text/plain": [
              "<Figure size 1200x600 with 1 Axes>"
            ],
            "image/png": "[encoded data removed]"
          },
          "metadata": {}
        }
      ]
    },
    {
      "cell_type": "code",
      "source": [
        "prob_2, y_hat_2 = model_2.predict(x_val)"
      ],
      "metadata": {
        "id": "FRWS8xtu7qMP"
      },
      "execution_count": 59,
      "outputs": []
    },
    {
      "cell_type": "code",
      "source": [
        "accuracy_2 = np.sum(y_val == y_hat_2) / len(y_val)"
      ],
      "metadata": {
        "id": "QJ-5iTK97uN6"
      },
      "execution_count": 60,
      "outputs": []
    },
    {
      "cell_type": "code",
      "source": [
        "accuracy_2"
      ],
      "metadata": {
        "colab": {
          "base_uri": "https://localhost:8080/"
        },
        "id": "2pXD7nod71ll",
        "outputId": "32f9d2bd-fa92-452c-b48d-bdcb7c490d6d"
      },
      "execution_count": 69,
      "outputs": [
        {
          "output_type": "execute_result",
          "data": {
            "text/plain": [
              "0.9773809523809524"
            ]
          },
          "metadata": {},
          "execution_count": 69
        }
      ]
    },
    {
      "cell_type": "code",
      "source": [
        "num_col = 5\n",
        "num_row = 2\n",
        "nums = 10\n",
        "\n",
        "# plot images\n",
        "fig, axes = plt.subplots(num_row, num_col, figsize=(4*num_col,4*num_row))\n",
        "for i in range(nums):\n",
        "    ax = axes[i//num_col, i%num_col]\n",
        "    ax.imshow(x_val[i].reshape(28,28), cmap='gray')\n",
        "    ax.set_title(f'y_hat = {y_hat_2[i]} w/ prob={round(np.max(prob_2[i]), 2)}, true y = {y_val[i]}')\n",
        "plt.tight_layout()\n",
        "plt.show()"
      ],
      "metadata": {
        "colab": {
          "base_uri": "https://localhost:8080/",
          "height": 819
        },
        "id": "dXEOk-yS72pR",
        "outputId": "9921b973-1918-4c18-9615-998b938379cc"
      },
      "execution_count": 63,
      "outputs": [
        {
          "output_type": "display_data",
          "data": {
            "text/plain": [
              "<Figure size 2000x800 with 10 Axes>"
            ],
            "image/png": "[encoded data removed]"
          },
          "metadata": {}
        }
      ]
    },
    {
      "cell_type": "code",
      "source": [
        "confusion_matrix_2 = confusion_matrix(y_val, y_hat_2)\n",
        "print(confusion_matrix_2)"
      ],
      "metadata": {
        "colab": {
          "base_uri": "https://localhost:8080/"
        },
        "id": "e06LwvYlBjFE",
        "outputId": "b1f3eaf6-4cd2-478c-fbc6-77e2348e9d0c"
      },
      "execution_count": 78,
      "outputs": [
        {
          "output_type": "stream",
          "name": "stdout",
          "text": [
            "[[850   0   2   1   0   0   1   0   3   0]\n",
            " [  0 929   1   1   0   0   0   1   6   1]\n",
            " [  3   1 770   8   2   2   1   2  10   1]\n",
            " [  0   2   3 874   0   4   0   2   8   2]\n",
            " [  0   3   0   0 763   0   1   1   1  14]\n",
            " [  1   0   0   6   3 739   5   1   3   2]\n",
            " [  2   1   2   0   2   4 843   0   1   0]\n",
            " [  2   2   5   4   0   0   0 837   2   7]\n",
            " [  0   2   1   1   2   4   0   0 808   2]\n",
            " [  2   1   2   4  12   3   0   3   8 797]]\n"
          ]
        }
      ]
    },
    {
      "cell_type": "markdown",
      "source": [
        "## Tahn function"
      ],
      "metadata": {
        "id": "Xq8iPgjL77Te"
      }
    },
    {
      "cell_type": "code",
      "source": [
        "model_3 = Network()"
      ],
      "metadata": {
        "id": "t-9G53Fi7-HH"
      },
      "execution_count": 64,
      "outputs": []
    },
    {
      "cell_type": "code",
      "source": [
        "model_3.add(DenseLayer(784,128))\n",
        "model_3.add(ActivationLayer(tahn, deriv_tahn))\n",
        "model_3.add(DenseLayer(128,10))\n",
        "model_3.add(SoftmaxLayer(10, loss=\"cross entropy loss\"))"
      ],
      "metadata": {
        "id": "bHS0u26z8Bwa"
      },
      "execution_count": 65,
      "outputs": []
    },
    {
      "cell_type": "code",
      "source": [
        "model_3.use(cross_entropy_loss, \"cross entropy loss\")"
      ],
      "metadata": {
        "id": "KotDkVut8Jyo"
      },
      "execution_count": 66,
      "outputs": []
    },
    {
      "cell_type": "code",
      "source": [
        "history_3 = model_3.train(X_train_augmented, Y_train_augmented, 0.1, 0.9, 40, 100)"
      ],
      "metadata": {
        "colab": {
          "base_uri": "https://localhost:8080/"
        },
        "id": "WZTOkocO8QgO",
        "outputId": "58e2266f-9ce7-423c-aa19-919b916dd2ee"
      },
      "execution_count": 67,
      "outputs": [
        {
          "output_type": "stream",
          "name": "stdout",
          "text": [
            "epoch 1/40\n",
            "loss = 0.2149382747863111\n",
            "epoch 2/40\n",
            "loss = 0.2624802677743149\n",
            "epoch 3/40\n",
            "loss = 0.20516179876076543\n",
            "epoch 4/40\n",
            "loss = 0.16377937166946827\n",
            "epoch 5/40\n",
            "loss = 0.15974107282573125\n",
            "epoch 6/40\n",
            "loss = 0.037271910954746336\n",
            "epoch 7/40\n",
            "loss = 0.09618526234539532\n",
            "epoch 8/40\n",
            "loss = 0.07828125081296969\n",
            "epoch 9/40\n",
            "loss = 0.0847099877827055\n",
            "epoch 10/40\n",
            "loss = 0.033658546364829726\n",
            "epoch 11/40\n",
            "loss = 0.044615815295879095\n",
            "epoch 12/40\n",
            "loss = 0.021733024649815122\n",
            "epoch 13/40\n",
            "loss = 0.055969762268533244\n",
            "epoch 14/40\n",
            "loss = 0.05108162290196941\n",
            "epoch 15/40\n",
            "loss = 0.02467180658355605\n",
            "epoch 16/40\n",
            "loss = 0.04772637645614807\n",
            "epoch 17/40\n",
            "loss = 0.04931001304171652\n",
            "epoch 18/40\n",
            "loss = 0.015116982212251075\n",
            "epoch 19/40\n",
            "loss = 0.013277625953501904\n",
            "epoch 20/40\n",
            "loss = 0.006545854605460541\n",
            "epoch 21/40\n",
            "loss = 0.015229105921221184\n",
            "epoch 22/40\n",
            "loss = 0.007334284098691713\n",
            "epoch 23/40\n",
            "loss = 0.023573965972043767\n",
            "epoch 24/40\n",
            "loss = 0.007210616421064792\n",
            "epoch 25/40\n",
            "loss = 0.0010225743212574489\n",
            "epoch 26/40\n",
            "loss = 0.02396361276459358\n",
            "epoch 27/40\n",
            "loss = 0.0017104011680753126\n",
            "epoch 28/40\n",
            "loss = 0.024381091637839546\n",
            "epoch 29/40\n",
            "loss = 0.0022907542755123455\n",
            "epoch 30/40\n",
            "loss = 0.008485206334866598\n",
            "epoch 31/40\n",
            "loss = 0.005814488081484734\n",
            "epoch 32/40\n",
            "loss = 0.0039094441267996365\n",
            "epoch 33/40\n",
            "loss = 0.0018609164963844286\n",
            "epoch 34/40\n",
            "loss = 0.004632359749565475\n",
            "epoch 35/40\n",
            "loss = 0.0015011013992696299\n",
            "epoch 36/40\n",
            "loss = 0.0007326569880019234\n",
            "epoch 37/40\n",
            "loss = 0.0021105174154352024\n",
            "epoch 38/40\n",
            "loss = 0.001144921880949064\n",
            "epoch 39/40\n",
            "loss = 0.0036323390476595413\n",
            "epoch 40/40\n",
            "loss = 0.001116482705077852\n"
          ]
        }
      ]
    },
    {
      "cell_type": "code",
      "source": [
        "fig, ax = plt.subplots(figsize=(12,6))\n",
        "\n",
        "plt.title(\"Loss Function for model 3\", fontsize='15')\n",
        "plt.xlabel('Number of Iterations', fontsize='15')\n",
        "plt.ylabel(r'Loss(w, b)', fontsize='15')\n",
        "# plt.figtext(x=.56, y=.6, s=\"At the final iteration:\\n\\nw = {}\\nb = {}\".format(w, b))\n",
        "ax.plot(history_3, 'b')\n",
        "ax.grid()\n",
        "plt.show()"
      ],
      "metadata": {
        "colab": {
          "base_uri": "https://localhost:8080/",
          "height": 572
        },
        "id": "AsIHrIQG8UMi",
        "outputId": "eacbca72-c198-4498-b8c9-e27f485409c0"
      },
      "execution_count": 70,
      "outputs": [
        {
          "output_type": "display_data",
          "data": {
            "text/plain": [
              "<Figure size 1200x600 with 1 Axes>"
            ],
            "image/png": "[encoded data removed]"
          },
          "metadata": {}
        }
      ]
    },
    {
      "cell_type": "code",
      "source": [
        "prob_3, y_hat_3 = model_3.predict(x_val)"
      ],
      "metadata": {
        "id": "ZpItUS9o8aMf"
      },
      "execution_count": 71,
      "outputs": []
    },
    {
      "cell_type": "code",
      "source": [
        "accuracy_3 = np.sum(y_val == y_hat_3) / len(y_val)"
      ],
      "metadata": {
        "id": "wxNt2V838dt1"
      },
      "execution_count": 72,
      "outputs": []
    },
    {
      "cell_type": "code",
      "source": [
        "accuracy_3"
      ],
      "metadata": {
        "colab": {
          "base_uri": "https://localhost:8080/"
        },
        "id": "34hq8jZW8j5k",
        "outputId": "98365523-f8b6-4d39-feb6-ea1b41aa11db"
      },
      "execution_count": 73,
      "outputs": [
        {
          "output_type": "execute_result",
          "data": {
            "text/plain": [
              "0.9729761904761904"
            ]
          },
          "metadata": {},
          "execution_count": 73
        }
      ]
    },
    {
      "cell_type": "code",
      "source": [
        "num_col = 5\n",
        "num_row = 2\n",
        "nums = 10\n",
        "\n",
        "# plot images\n",
        "fig, axes = plt.subplots(num_row, num_col, figsize=(4*num_col,4*num_row))\n",
        "for i in range(nums):\n",
        "    ax = axes[i//num_col, i%num_col]\n",
        "    ax.imshow(x_val[i].reshape(28,28), cmap='gray')\n",
        "    ax.set_title(f'y_hat = {y_hat_3[i]} w/ prob={round(np.max(prob_3[i]), 2)}, true y = {y_val[i]}')\n",
        "plt.tight_layout()\n",
        "plt.show()"
      ],
      "metadata": {
        "colab": {
          "base_uri": "https://localhost:8080/",
          "height": 819
        },
        "id": "qMCLJbcM8k6B",
        "outputId": "a8a2f8bb-6c7c-4658-fd84-e02ae6af401a"
      },
      "execution_count": 74,
      "outputs": [
        {
          "output_type": "display_data",
          "data": {
            "text/plain": [
              "<Figure size 2000x800 with 10 Axes>"
            ],
            "image/png": "[encoded data removed]"
          },
          "metadata": {}
        }
      ]
    },
    {
      "cell_type": "code",
      "source": [
        "confusion_matrix_3 = confusion_matrix(y_val, y_hat_3)\n",
        "print(confusion_matrix_3)"
      ],
      "metadata": {
        "colab": {
          "base_uri": "https://localhost:8080/"
        },
        "id": "UOc4xt0MBwnw",
        "outputId": "66b9c1d7-32cb-496e-8b7d-6de746c65b1d"
      },
      "execution_count": 77,
      "outputs": [
        {
          "output_type": "stream",
          "name": "stdout",
          "text": [
            "[[848   0   2   0   2   0   1   0   2   2]\n",
            " [  0 933   0   0   1   0   0   0   3   2]\n",
            " [  3   6 763   8   2   0   0   9   7   2]\n",
            " [  2   1   4 864   0  11   0   2   8   3]\n",
            " [  1   3   0   0 763   0   1   2   0  13]\n",
            " [  2   1   0  10   1 733   6   1   2   4]\n",
            " [  2   0   0   1   0   7 844   0   0   1]\n",
            " [  1   5   7   1   3   1   0 833   1   7]\n",
            " [  1   3   4   4   3   5   3   3 792   2]\n",
            " [  4   2   1   3   8   5   0   4   5 800]]\n"
          ]
        }
      ]
    },
    {
      "cell_type": "code",
      "source": [],
      "metadata": {
        "id": "cB-krzP6B3UO"
      },
      "execution_count": null,
      "outputs": []
    }
  ]
}